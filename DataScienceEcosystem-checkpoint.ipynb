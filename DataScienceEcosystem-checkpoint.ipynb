{
 "cells": [
  {
   "cell_type": "markdown",
   "id": "f7762a7c-e393-4d13-bec6-a80586006845",
   "metadata": {},
   "source": [
    "# Data Science Tools and Ecosystem"
   ]
  },
  {
   "cell_type": "markdown",
   "id": "7ba2d5b3-45d0-4a82-812e-c809f0396fb0",
   "metadata": {},
   "source": [
    "In this notebook, Data Science Tools and Ecosystem are summarized"
   ]
  },
  {
   "cell_type": "markdown",
   "id": "a91da999-59dd-4b9d-83f9-152e6cde08f9",
   "metadata": {},
   "source": [
    "Some of the popular languages that Data Scientists use are:\n",
    "1. python\n",
    "2. r\n",
    "3. java"
   ]
  },
  {
   "cell_type": "markdown",
   "id": "ee2a59aa-9308-4333-9e75-d4c464af2ed3",
   "metadata": {},
   "source": [
    "Data Science Tools|\n",
    "---|\n",
    "vs code|\n",
    "jupyter notebooks|\n",
    "kubernetes|"
   ]
  },
  {
   "cell_type": "markdown",
   "id": "603103b0-326a-4521-8c31-5afbd2975164",
   "metadata": {},
   "source": [
    "### Below are a few examples of evaluating arithmetic expressions in Python"
   ]
  },
  {
   "cell_type": "markdown",
   "id": "34bcc7ae-c491-41ca-808f-ee67224985af",
   "metadata": {},
   "source": [
    "null"
   ]
  },
  {
   "cell_type": "markdown",
   "id": "a60d6014-edca-4c9b-92f3-6bf96714c129",
   "metadata": {},
   "source": [
    "**Objectives:**"
   ]
  },
  {
   "cell_type": "code",
   "execution_count": null,
   "id": "16753798-de8c-43db-87bd-cdcc4f6483cd",
   "metadata": {},
   "outputs": [],
   "source": []
  }
 ],
 "metadata": {
  "kernelspec": {
   "display_name": "Python 3 (ipykernel)",
   "language": "python",
   "name": "python3"
  },
  "language_info": {
   "codemirror_mode": {
    "name": "ipython",
    "version": 3
   },
   "file_extension": ".py",
   "mimetype": "text/x-python",
   "name": "python",
   "nbconvert_exporter": "python",
   "pygments_lexer": "ipython3",
   "version": "3.12.4"
  }
 },
 "nbformat": 4,
 "nbformat_minor": 5
}
